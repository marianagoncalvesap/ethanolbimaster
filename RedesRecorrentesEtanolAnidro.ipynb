{
  "nbformat": 4,
  "nbformat_minor": 0,
  "metadata": {
    "colab": {
      "name": "RedesRecorrentesEtanolAnidro.ipynb",
      "provenance": [],
      "collapsed_sections": [],
      "include_colab_link": true
    },
    "kernelspec": {
      "name": "python3",
      "display_name": "Python 3"
    }
  },
  "cells": [
    {
      "cell_type": "markdown",
      "metadata": {
        "id": "view-in-github",
        "colab_type": "text"
      },
      "source": [
        "<a href=\"https://colab.research.google.com/github/marianagoncalvesap/ethanolbimaster/blob/main/RedesRecorrentesEtanolAnidro.ipynb\" target=\"_parent\"><img src=\"https://colab.research.google.com/assets/colab-badge.svg\" alt=\"Open In Colab\"/></a>"
      ]
    },
    {
      "cell_type": "markdown",
      "metadata": {
        "id": "8gPOQRE0Cz3Q"
      },
      "source": [
        "# Recurrent Neural Network - LSTM\n"
      ]
    },
    {
      "cell_type": "markdown",
      "metadata": {
        "id": "aew2N81e35Uc"
      },
      "source": [
        "## Parte 1 - Preprocessamento de Dados"
      ]
    },
    {
      "cell_type": "markdown",
      "metadata": {
        "id": "Z0vulSxH2hHu"
      },
      "source": [
        "### Importar as bibliotecas"
      ]
    },
    {
      "cell_type": "code",
      "metadata": {
        "id": "p2SjiqlE2O08"
      },
      "source": [
        "import numpy as np\n",
        "import matplotlib.pyplot as plt\n",
        "import pandas as pd\n",
        "import os\n",
        "\n",
        "#semente inicial\n",
        "seed=10\n",
        "import random\n",
        "np.random.seed(seed) \n",
        "random.seed(seed)\n",
        "import tensorflow\n",
        "tensorflow.random.set_seed(seed)"
      ],
      "execution_count": 1,
      "outputs": []
    },
    {
      "cell_type": "markdown",
      "metadata": {
        "id": "36Q16Udt2l3W"
      },
      "source": [
        "### Importar a base de dados"
      ]
    },
    {
      "cell_type": "code",
      "metadata": {
        "id": "1ivhnWxD2eEG"
      },
      "source": [
        "dataset_train = pd.read_csv('CEPEA_Etanol Anidro.csv',sep=';')\n",
        "training_set = dataset_train.iloc[0:224, 1:2].values #só coluna da série em si"
      ],
      "execution_count": 2,
      "outputs": []
    },
    {
      "cell_type": "code",
      "metadata": {
        "colab": {
          "base_uri": "https://localhost:8080/",
          "height": 206
        },
        "id": "2-LD7RGQ6UNx",
        "outputId": "50d390f6-ef69-4a92-989d-05badeb3f52e"
      },
      "source": [
        "pd.DataFrame(training_set).tail()"
      ],
      "execution_count": 3,
      "outputs": [
        {
          "output_type": "execute_result",
          "data": {
            "text/html": [
              "<div>\n",
              "<style scoped>\n",
              "    .dataframe tbody tr th:only-of-type {\n",
              "        vertical-align: middle;\n",
              "    }\n",
              "\n",
              "    .dataframe tbody tr th {\n",
              "        vertical-align: top;\n",
              "    }\n",
              "\n",
              "    .dataframe thead th {\n",
              "        text-align: right;\n",
              "    }\n",
              "</style>\n",
              "<table border=\"1\" class=\"dataframe\">\n",
              "  <thead>\n",
              "    <tr style=\"text-align: right;\">\n",
              "      <th></th>\n",
              "      <th>0</th>\n",
              "    </tr>\n",
              "  </thead>\n",
              "  <tbody>\n",
              "    <tr>\n",
              "      <th>219</th>\n",
              "      <td>24.969</td>\n",
              "    </tr>\n",
              "    <tr>\n",
              "      <th>220</th>\n",
              "      <td>29.806</td>\n",
              "    </tr>\n",
              "    <tr>\n",
              "      <th>221</th>\n",
              "      <td>27.742</td>\n",
              "    </tr>\n",
              "    <tr>\n",
              "      <th>222</th>\n",
              "      <td>32.195</td>\n",
              "    </tr>\n",
              "    <tr>\n",
              "      <th>223</th>\n",
              "      <td>33.353</td>\n",
              "    </tr>\n",
              "  </tbody>\n",
              "</table>\n",
              "</div>"
            ],
            "text/plain": [
              "          0\n",
              "219  24.969\n",
              "220  29.806\n",
              "221  27.742\n",
              "222  32.195\n",
              "223  33.353"
            ]
          },
          "metadata": {},
          "execution_count": 3
        }
      ]
    },
    {
      "cell_type": "code",
      "metadata": {
        "colab": {
          "base_uri": "https://localhost:8080/",
          "height": 300
        },
        "id": "diOxauii3p2U",
        "outputId": "6e410c15-fa51-4c9c-ef44-958b08e53a81"
      },
      "source": [
        "dataset_train.describe()"
      ],
      "execution_count": 4,
      "outputs": [
        {
          "output_type": "execute_result",
          "data": {
            "text/html": [
              "<div>\n",
              "<style scoped>\n",
              "    .dataframe tbody tr th:only-of-type {\n",
              "        vertical-align: middle;\n",
              "    }\n",
              "\n",
              "    .dataframe tbody tr th {\n",
              "        vertical-align: top;\n",
              "    }\n",
              "\n",
              "    .dataframe thead th {\n",
              "        text-align: right;\n",
              "    }\n",
              "</style>\n",
              "<table border=\"1\" class=\"dataframe\">\n",
              "  <thead>\n",
              "    <tr style=\"text-align: right;\">\n",
              "      <th></th>\n",
              "      <th>À vista R$</th>\n",
              "      <th>À vista US$</th>\n",
              "    </tr>\n",
              "  </thead>\n",
              "  <tbody>\n",
              "    <tr>\n",
              "      <th>count</th>\n",
              "      <td>224.000000</td>\n",
              "      <td>224.000000</td>\n",
              "    </tr>\n",
              "    <tr>\n",
              "      <th>mean</th>\n",
              "      <td>9.989403</td>\n",
              "      <td>0.489416</td>\n",
              "    </tr>\n",
              "    <tr>\n",
              "      <th>std</th>\n",
              "      <td>8.248938</td>\n",
              "      <td>0.164199</td>\n",
              "    </tr>\n",
              "    <tr>\n",
              "      <th>min</th>\n",
              "      <td>0.390500</td>\n",
              "      <td>0.134400</td>\n",
              "    </tr>\n",
              "    <tr>\n",
              "      <th>25%</th>\n",
              "      <td>0.877800</td>\n",
              "      <td>0.392225</td>\n",
              "    </tr>\n",
              "    <tr>\n",
              "      <th>50%</th>\n",
              "      <td>12.397500</td>\n",
              "      <td>0.486650</td>\n",
              "    </tr>\n",
              "    <tr>\n",
              "      <th>75%</th>\n",
              "      <td>16.330500</td>\n",
              "      <td>0.591600</td>\n",
              "    </tr>\n",
              "    <tr>\n",
              "      <th>max</th>\n",
              "      <td>33.353000</td>\n",
              "      <td>1.495000</td>\n",
              "    </tr>\n",
              "  </tbody>\n",
              "</table>\n",
              "</div>"
            ],
            "text/plain": [
              "       À vista R$  À vista US$\n",
              "count  224.000000   224.000000\n",
              "mean     9.989403     0.489416\n",
              "std      8.248938     0.164199\n",
              "min      0.390500     0.134400\n",
              "25%      0.877800     0.392225\n",
              "50%     12.397500     0.486650\n",
              "75%     16.330500     0.591600\n",
              "max     33.353000     1.495000"
            ]
          },
          "metadata": {},
          "execution_count": 4
        }
      ]
    },
    {
      "cell_type": "code",
      "metadata": {
        "colab": {
          "base_uri": "https://localhost:8080/",
          "height": 206
        },
        "id": "_X__R8Km45bv",
        "outputId": "2fda1856-d59a-4b9e-b6b2-94cb73203fad"
      },
      "source": [
        "dataset_train.head()"
      ],
      "execution_count": 5,
      "outputs": [
        {
          "output_type": "execute_result",
          "data": {
            "text/html": [
              "<div>\n",
              "<style scoped>\n",
              "    .dataframe tbody tr th:only-of-type {\n",
              "        vertical-align: middle;\n",
              "    }\n",
              "\n",
              "    .dataframe tbody tr th {\n",
              "        vertical-align: top;\n",
              "    }\n",
              "\n",
              "    .dataframe thead th {\n",
              "        text-align: right;\n",
              "    }\n",
              "</style>\n",
              "<table border=\"1\" class=\"dataframe\">\n",
              "  <thead>\n",
              "    <tr style=\"text-align: right;\">\n",
              "      <th></th>\n",
              "      <th>Data</th>\n",
              "      <th>À vista R$</th>\n",
              "      <th>À vista US$</th>\n",
              "    </tr>\n",
              "  </thead>\n",
              "  <tbody>\n",
              "    <tr>\n",
              "      <th>0</th>\n",
              "      <td>28/11/2002</td>\n",
              "      <td>0.7651</td>\n",
              "      <td>0.2137</td>\n",
              "    </tr>\n",
              "    <tr>\n",
              "      <th>1</th>\n",
              "      <td>30/12/2002</td>\n",
              "      <td>0.7824</td>\n",
              "      <td>0.2145</td>\n",
              "    </tr>\n",
              "    <tr>\n",
              "      <th>2</th>\n",
              "      <td>30/01/2003</td>\n",
              "      <td>0.9237</td>\n",
              "      <td>0.2686</td>\n",
              "    </tr>\n",
              "    <tr>\n",
              "      <th>3</th>\n",
              "      <td>27/02/2003</td>\n",
              "      <td>1.0260</td>\n",
              "      <td>0.2856</td>\n",
              "    </tr>\n",
              "    <tr>\n",
              "      <th>4</th>\n",
              "      <td>28/03/2003</td>\n",
              "      <td>10.0730</td>\n",
              "      <td>0.2918</td>\n",
              "    </tr>\n",
              "  </tbody>\n",
              "</table>\n",
              "</div>"
            ],
            "text/plain": [
              "         Data  À vista R$  À vista US$\n",
              "0  28/11/2002      0.7651       0.2137\n",
              "1  30/12/2002      0.7824       0.2145\n",
              "2  30/01/2003      0.9237       0.2686\n",
              "3  27/02/2003      1.0260       0.2856\n",
              "4  28/03/2003     10.0730       0.2918"
            ]
          },
          "metadata": {},
          "execution_count": 5
        }
      ]
    },
    {
      "cell_type": "code",
      "metadata": {
        "colab": {
          "base_uri": "https://localhost:8080/"
        },
        "id": "gXX-61Mp4-Kb",
        "outputId": "44ad9578-ced4-44e8-dd6d-2d13343778d9"
      },
      "source": [
        "dataset_train.shape"
      ],
      "execution_count": 6,
      "outputs": [
        {
          "output_type": "execute_result",
          "data": {
            "text/plain": [
              "(225, 3)"
            ]
          },
          "metadata": {},
          "execution_count": 6
        }
      ]
    },
    {
      "cell_type": "markdown",
      "metadata": {
        "id": "kd39T1zK2ql1"
      },
      "source": [
        "### gráfico da série temporal"
      ]
    },
    {
      "cell_type": "code",
      "metadata": {
        "id": "nTrSlkXLD9J8",
        "colab": {
          "base_uri": "https://localhost:8080/"
        },
        "outputId": "484156df-4eee-4f63-9e66-99067434e842"
      },
      "source": [
        "training_set[0:5,:]"
      ],
      "execution_count": 7,
      "outputs": [
        {
          "output_type": "execute_result",
          "data": {
            "text/plain": [
              "array([[ 0.7651],\n",
              "       [ 0.7824],\n",
              "       [ 0.9237],\n",
              "       [ 1.026 ],\n",
              "       [10.073 ]])"
            ]
          },
          "metadata": {},
          "execution_count": 7
        }
      ]
    },
    {
      "cell_type": "code",
      "metadata": {
        "colab": {
          "base_uri": "https://localhost:8080/",
          "height": 206
        },
        "id": "ZnSeOV9srJCJ",
        "outputId": "14457d77-58aa-4259-bc79-3016f237db01"
      },
      "source": [
        "dataset_train.head()"
      ],
      "execution_count": 8,
      "outputs": [
        {
          "output_type": "execute_result",
          "data": {
            "text/html": [
              "<div>\n",
              "<style scoped>\n",
              "    .dataframe tbody tr th:only-of-type {\n",
              "        vertical-align: middle;\n",
              "    }\n",
              "\n",
              "    .dataframe tbody tr th {\n",
              "        vertical-align: top;\n",
              "    }\n",
              "\n",
              "    .dataframe thead th {\n",
              "        text-align: right;\n",
              "    }\n",
              "</style>\n",
              "<table border=\"1\" class=\"dataframe\">\n",
              "  <thead>\n",
              "    <tr style=\"text-align: right;\">\n",
              "      <th></th>\n",
              "      <th>Data</th>\n",
              "      <th>À vista R$</th>\n",
              "      <th>À vista US$</th>\n",
              "    </tr>\n",
              "  </thead>\n",
              "  <tbody>\n",
              "    <tr>\n",
              "      <th>0</th>\n",
              "      <td>28/11/2002</td>\n",
              "      <td>0.7651</td>\n",
              "      <td>0.2137</td>\n",
              "    </tr>\n",
              "    <tr>\n",
              "      <th>1</th>\n",
              "      <td>30/12/2002</td>\n",
              "      <td>0.7824</td>\n",
              "      <td>0.2145</td>\n",
              "    </tr>\n",
              "    <tr>\n",
              "      <th>2</th>\n",
              "      <td>30/01/2003</td>\n",
              "      <td>0.9237</td>\n",
              "      <td>0.2686</td>\n",
              "    </tr>\n",
              "    <tr>\n",
              "      <th>3</th>\n",
              "      <td>27/02/2003</td>\n",
              "      <td>1.0260</td>\n",
              "      <td>0.2856</td>\n",
              "    </tr>\n",
              "    <tr>\n",
              "      <th>4</th>\n",
              "      <td>28/03/2003</td>\n",
              "      <td>10.0730</td>\n",
              "      <td>0.2918</td>\n",
              "    </tr>\n",
              "  </tbody>\n",
              "</table>\n",
              "</div>"
            ],
            "text/plain": [
              "         Data  À vista R$  À vista US$\n",
              "0  28/11/2002      0.7651       0.2137\n",
              "1  30/12/2002      0.7824       0.2145\n",
              "2  30/01/2003      0.9237       0.2686\n",
              "3  27/02/2003      1.0260       0.2856\n",
              "4  28/03/2003     10.0730       0.2918"
            ]
          },
          "metadata": {},
          "execution_count": 8
        }
      ]
    },
    {
      "cell_type": "code",
      "metadata": {
        "id": "vMsAFuya2rhr",
        "colab": {
          "base_uri": "https://localhost:8080/",
          "height": 295
        },
        "outputId": "712941ea-334c-4b6f-c43a-75c6d920f8b5"
      },
      "source": [
        "plt.plot(training_set)\n",
        "plt.xlabel(\"Meses\")\n",
        "plt.ylabel(\"Preço (R$)\")\n",
        "plt.title(\"Preço Etanol Anidro\")\n",
        "plt.show()"
      ],
      "execution_count": 9,
      "outputs": [
        {
          "output_type": "display_data",
          "data": {
            "image/png": "[encoded data removed]",
            "text/plain": [
              "<Figure size 432x288 with 1 Axes>"
            ]
          },
          "metadata": {
            "needs_background": "light"
          }
        }
      ]
    },
    {
      "cell_type": "code",
      "metadata": {
        "id": "nbk5bW3PWNS3"
      },
      "source": [
        "training_set = pd.DataFrame(training_set)"
      ],
      "execution_count": 10,
      "outputs": []
    },
    {
      "cell_type": "code",
      "metadata": {
        "colab": {
          "base_uri": "https://localhost:8080/"
        },
        "id": "nUMK6Bj9V9bn",
        "outputId": "ac09da44-19a5-4b5f-ec72-13da0edfbb80"
      },
      "source": [
        "training_set.isnull().sum()"
      ],
      "execution_count": 11,
      "outputs": [
        {
          "output_type": "execute_result",
          "data": {
            "text/plain": [
              "0    0\n",
              "dtype: int64"
            ]
          },
          "metadata": {},
          "execution_count": 11
        }
      ]
    },
    {
      "cell_type": "code",
      "metadata": {
        "id": "aAJzU4iJT6f5"
      },
      "source": [
        "training_set.interpolate(method=\"linear\",inplace=True)"
      ],
      "execution_count": 12,
      "outputs": []
    },
    {
      "cell_type": "code",
      "metadata": {
        "colab": {
          "base_uri": "https://localhost:8080/"
        },
        "id": "YCupvzQAVEbW",
        "outputId": "5215dfdf-da0a-47ff-bb3c-8201a86123f0"
      },
      "source": [
        "training_set.isnull().sum()"
      ],
      "execution_count": 13,
      "outputs": [
        {
          "output_type": "execute_result",
          "data": {
            "text/plain": [
              "0    0\n",
              "dtype: int64"
            ]
          },
          "metadata": {},
          "execution_count": 13
        }
      ]
    },
    {
      "cell_type": "markdown",
      "metadata": {
        "id": "7p1F7HdB2uJU"
      },
      "source": [
        "### Normalização"
      ]
    },
    {
      "cell_type": "code",
      "metadata": {
        "id": "foeHRZr-2u-L"
      },
      "source": [
        "from sklearn.preprocessing import MinMaxScaler\n",
        "sc = MinMaxScaler(feature_range = (0, 1))\n",
        "training_set_scaled = sc.fit_transform(training_set)"
      ],
      "execution_count": 14,
      "outputs": []
    },
    {
      "cell_type": "markdown",
      "metadata": {
        "id": "uQP8Q7MI21Y9"
      },
      "source": [
        "### Criar a estrutura de dados com janela 10 e output 1"
      ]
    },
    {
      "cell_type": "code",
      "metadata": {
        "id": "C6Ge9ql922cb"
      },
      "source": [
        "window = 10\n",
        "trainSize = len(training_set_scaled)\n",
        "X_train = []\n",
        "y_train = []\n",
        "for i in range(window, trainSize):\n",
        "    X_train.append(training_set_scaled[i-window:i, 0])\n",
        "    y_train.append(training_set_scaled[i, 0])\n",
        "X_train, y_train = np.array(X_train), np.array(y_train)"
      ],
      "execution_count": 15,
      "outputs": []
    },
    {
      "cell_type": "code",
      "metadata": {
        "colab": {
          "base_uri": "https://localhost:8080/"
        },
        "id": "o4Ru1PRNs4lQ",
        "outputId": "194931cf-bd81-4894-a539-614fb7e8db00"
      },
      "source": [
        "X_train[0:5,:]"
      ],
      "execution_count": 16,
      "outputs": [
        {
          "output_type": "execute_result",
          "data": {
            "text/plain": [
              "array([[0.01136443, 0.01188927, 0.01617596, 0.01927948, 0.29374289,\n",
              "        0.0184088 , 0.01502617, 0.00771483, 0.00593705, 0.00967463],\n",
              "       [0.01188927, 0.01617596, 0.01927948, 0.29374289, 0.0184088 ,\n",
              "        0.01502617, 0.00771483, 0.00593705, 0.00967463, 0.0084581 ],\n",
              "       [0.01617596, 0.01927948, 0.29374289, 0.0184088 , 0.01502617,\n",
              "        0.00771483, 0.00593705, 0.00967463, 0.0084581 , 0.00614941],\n",
              "       [0.01927948, 0.29374289, 0.0184088 , 0.01502617, 0.00771483,\n",
              "        0.00593705, 0.00967463, 0.0084581 , 0.00614941, 0.00788168],\n",
              "       [0.29374289, 0.0184088 , 0.01502617, 0.00771483, 0.00593705,\n",
              "        0.00967463, 0.0084581 , 0.00614941, 0.00788168, 0.00965643]])"
            ]
          },
          "metadata": {},
          "execution_count": 16
        }
      ]
    },
    {
      "cell_type": "code",
      "metadata": {
        "colab": {
          "base_uri": "https://localhost:8080/"
        },
        "id": "RynzcbC0tjhN",
        "outputId": "81baacd2-1c93-41df-f2b6-735d0ae73396"
      },
      "source": [
        "y_train[0:5]"
      ],
      "execution_count": 17,
      "outputs": [
        {
          "output_type": "execute_result",
          "data": {
            "text/plain": [
              "array([0.0084581 , 0.00614941, 0.00788168, 0.00965643, 0.00736898])"
            ]
          },
          "metadata": {},
          "execution_count": 17
        }
      ]
    },
    {
      "cell_type": "code",
      "metadata": {
        "id": "JnmOOHj8ujUb"
      },
      "source": [
        "from sklearn.model_selection import  train_test_split\n",
        "input_train,input_test,output_train,output_test = train_test_split(X_train,y_train,test_size=0.2)"
      ],
      "execution_count": 18,
      "outputs": []
    },
    {
      "cell_type": "markdown",
      "metadata": {
        "id": "LPBC2LoG24dU"
      },
      "source": [
        "### Reshaping"
      ]
    },
    {
      "cell_type": "code",
      "metadata": {
        "id": "1v3Wm5nxfaAL",
        "colab": {
          "base_uri": "https://localhost:8080/"
        },
        "outputId": "96222728-734e-45d6-b253-e635c38e93fa"
      },
      "source": [
        "input_train.shape"
      ],
      "execution_count": 19,
      "outputs": [
        {
          "output_type": "execute_result",
          "data": {
            "text/plain": [
              "(171, 10)"
            ]
          },
          "metadata": {},
          "execution_count": 19
        }
      ]
    },
    {
      "cell_type": "code",
      "metadata": {
        "id": "b9ZfLlGH25fr"
      },
      "source": [
        "input_train = np.reshape(input_train, (input_train.shape[0], input_train.shape[1], 1))"
      ],
      "execution_count": 20,
      "outputs": []
    },
    {
      "cell_type": "code",
      "metadata": {
        "id": "mlcTC5-AfcMl",
        "colab": {
          "base_uri": "https://localhost:8080/"
        },
        "outputId": "81caa43d-18b7-4d13-89fe-bfd75c40221f"
      },
      "source": [
        "input_train.shape"
      ],
      "execution_count": 21,
      "outputs": [
        {
          "output_type": "execute_result",
          "data": {
            "text/plain": [
              "(171, 10, 1)"
            ]
          },
          "metadata": {},
          "execution_count": 21
        }
      ]
    },
    {
      "cell_type": "markdown",
      "metadata": {
        "id": "fZhjp7Tf282b"
      },
      "source": [
        "## Parte 2 - Construção da RNN"
      ]
    },
    {
      "cell_type": "markdown",
      "metadata": {
        "id": "RDkAxmMl3EXr"
      },
      "source": [
        "### Bibliotecas necessárias"
      ]
    },
    {
      "cell_type": "code",
      "metadata": {
        "id": "Ifhh9yUo3DpT"
      },
      "source": [
        "from keras.models import Sequential\n",
        "from keras.layers import Dense\n",
        "from keras.layers import LSTM\n",
        "from keras.layers import Dropout"
      ],
      "execution_count": 22,
      "outputs": []
    },
    {
      "cell_type": "markdown",
      "metadata": {
        "id": "kordpD0_3H7b"
      },
      "source": [
        "### Construção da Rede completa"
      ]
    },
    {
      "cell_type": "code",
      "metadata": {
        "id": "EskB17uo3Iso",
        "colab": {
          "base_uri": "https://localhost:8080/"
        },
        "outputId": "79677320-e54a-44ef-9245-a186f48c4b86"
      },
      "source": [
        "# Initicializar a RNN\n",
        "regressor = Sequential()\n",
        " \n",
        "# Adicionar a primeira camada LSTM e Dropout \n",
        "regressor.add(LSTM(units = 100, return_sequences = True, input_shape = (input_train.shape[1], 1)))\n",
        "regressor.add(Dropout(0.2))\n",
        " \n",
        "# Adicionar a segunda camada LSTM e Dropout\n",
        "regressor.add(LSTM(units = 80, return_sequences = True))\n",
        "regressor.add(Dropout(0.2))\n",
        " \n",
        "# Adicionar a terceira camada LSTM e Dropout\n",
        "regressor.add(LSTM(units = 50))\n",
        "regressor.add(Dropout(0.2))\n",
        " \n",
        "# camada de saída\n",
        "regressor.add(Dense(units = 1))\n",
        " \n",
        "# Compilar a rede\n",
        "regressor.compile(optimizer = 'adam', loss = 'mean_squared_error')\n",
        "\n",
        "# Visualizar a rede\n",
        "regressor.summary()"
      ],
      "execution_count": 23,
      "outputs": [
        {
          "output_type": "stream",
          "name": "stdout",
          "text": [
            "Model: \"sequential\"\n",
            "_________________________________________________________________\n",
            " Layer (type)                Output Shape              Param #   \n",
            "=================================================================\n",
            " lstm (LSTM)                 (None, 10, 100)           40800     \n",
            "                                                                 \n",
            " dropout (Dropout)           (None, 10, 100)           0         \n",
            "                                                                 \n",
            " lstm_1 (LSTM)               (None, 10, 80)            57920     \n",
            "                                                                 \n",
            " dropout_1 (Dropout)         (None, 10, 80)            0         \n",
            "                                                                 \n",
            " lstm_2 (LSTM)               (None, 50)                26200     \n",
            "                                                                 \n",
            " dropout_2 (Dropout)         (None, 50)                0         \n",
            "                                                                 \n",
            " dense (Dense)               (None, 1)                 51        \n",
            "                                                                 \n",
            "=================================================================\n",
            "Total params: 124,971\n",
            "Trainable params: 124,971\n",
            "Non-trainable params: 0\n",
            "_________________________________________________________________\n"
          ]
        }
      ]
    },
    {
      "cell_type": "markdown",
      "metadata": {
        "id": "5j1w28g83iSR"
      },
      "source": [
        "### Treinamento"
      ]
    },
    {
      "cell_type": "code",
      "metadata": {
        "colab": {
          "base_uri": "https://localhost:8080/"
        },
        "id": "Y7ZwYPZxTSuY",
        "outputId": "7cee960c-0843-4ed5-8058-e7377b64ad3b"
      },
      "source": [
        "input_train\n"
      ],
      "execution_count": 24,
      "outputs": [
        {
          "output_type": "execute_result",
          "data": {
            "text/plain": [
              "array([[[0.0148047 ],\n",
              "        [0.01445582],\n",
              "        [0.01421009],\n",
              "        ...,\n",
              "        [0.31355328],\n",
              "        [0.01496549],\n",
              "        [0.00863405]],\n",
              "\n",
              "       [[0.0084581 ],\n",
              "        [0.00614941],\n",
              "        [0.00788168],\n",
              "        ...,\n",
              "        [0.00219644],\n",
              "        [0.0045931 ],\n",
              "        [0.00723246]],\n",
              "\n",
              "       [[0.01502617],\n",
              "        [0.00771483],\n",
              "        [0.00593705],\n",
              "        ...,\n",
              "        [0.00965643],\n",
              "        [0.00736898],\n",
              "        [0.00185362]],\n",
              "\n",
              "       ...,\n",
              "\n",
              "       [[0.00185362],\n",
              "        [0.        ],\n",
              "        [0.00219644],\n",
              "        ...,\n",
              "        [0.0116496 ],\n",
              "        [0.01562685],\n",
              "        [0.01785059]],\n",
              "\n",
              "       [[0.41130072],\n",
              "        [0.39136898],\n",
              "        [0.37805082],\n",
              "        ...,\n",
              "        [0.39552522],\n",
              "        [0.03183921],\n",
              "        [0.42989761]],\n",
              "\n",
              "       [[0.00967463],\n",
              "        [0.0084581 ],\n",
              "        [0.00614941],\n",
              "        ...,\n",
              "        [0.        ],\n",
              "        [0.00219644],\n",
              "        [0.0045931 ]]])"
            ]
          },
          "metadata": {},
          "execution_count": 24
        }
      ]
    },
    {
      "cell_type": "code",
      "metadata": {
        "colab": {
          "base_uri": "https://localhost:8080/"
        },
        "id": "UgAk_MtMTb3Q",
        "outputId": "8fd60237-b388-4248-fe5e-715fadec3498"
      },
      "source": [
        "output_train"
      ],
      "execution_count": 25,
      "outputs": [
        {
          "output_type": "execute_result",
          "data": {
            "text/plain": [
              "array([0.00843383, 0.00874024, 0.        , 0.01419795, 0.0155237 ,\n",
              "       0.39855897, 0.59796739, 0.40514221, 0.53368221, 0.45425863,\n",
              "       0.00219644, 1.        , 0.55139932, 0.47136898, 0.01392491,\n",
              "       0.00864922, 0.01733485, 0.46023512, 0.55558589, 0.60919226,\n",
              "       0.42989761, 0.53386424, 0.40599166, 0.37031475, 0.45001138,\n",
              "       0.44621919, 0.59047402, 0.01584831, 0.38721274, 0.31355328,\n",
              "       0.42037163, 0.00847327, 0.4305347 , 0.68063709, 0.33145241,\n",
              "       0.37610922, 0.45908229, 0.36279105, 0.5362609 , 0.02898749,\n",
              "       0.00929845, 0.01073948, 0.0116132 , 0.01421009, 0.89239287,\n",
              "       0.3604854 , 0.61034509, 0.37805082, 0.56095563, 0.34753129,\n",
              "       0.40050057, 0.48335229, 0.40147137, 0.47252181, 0.01355783,\n",
              "       0.01361244, 0.01325142, 0.0174744 , 0.36206295, 0.00819719,\n",
              "       0.01660978, 0.01266894, 0.68749336, 0.01387637, 0.40496018,\n",
              "       0.01397345, 0.01785059, 0.01619113, 0.30372393, 0.63567691,\n",
              "       0.31091392, 0.00965643, 0.01120061, 0.55807357, 0.53389458,\n",
              "       0.01445582, 0.55925673, 0.03963595, 0.52870686, 0.00863405,\n",
              "       0.39127797, 0.40635571, 0.57782328, 0.59966629, 0.02273796,\n",
              "       0.01584831, 0.58213121, 0.01571179, 0.56650739, 0.0116496 ,\n",
              "       0.3832992 , 0.01110353, 0.34407281, 0.39161168, 0.38275313,\n",
              "       0.61786879, 0.38081153, 0.01958286, 0.35186955, 0.01220781,\n",
              "       0.40022753, 0.51186955, 0.50316268, 0.00736898, 0.02728859,\n",
              "       0.01496549, 0.40808495, 0.5411149 , 0.30384528, 0.41503223,\n",
              "       0.49124005, 0.48426242, 0.61083049, 0.01305119, 0.37380356,\n",
              "       0.49469852, 0.82977626, 0.45914297, 0.31998483, 0.6732044 ,\n",
              "       0.66828972, 0.38220705, 0.47428138, 0.62939704, 0.53780812,\n",
              "       0.36573379, 0.01471976, 0.3076678 , 0.0148047 , 0.01202882,\n",
              "       0.34780432, 0.01425256, 0.40168373, 0.38044748, 0.62117558,\n",
              "       0.34959424, 0.34771331, 0.40702313, 0.39843762, 0.47664771,\n",
              "       0.49724687, 0.01562685, 0.38181267, 0.64517254, 0.46056883,\n",
              "       0.5396587 , 0.68433826, 0.01799621, 0.01536595, 0.39552522,\n",
              "       0.35180887, 0.36227531, 0.01337884, 0.41333333, 0.37353053,\n",
              "       0.01500493, 0.41130072, 0.47667804, 0.01456807, 0.0084581 ,\n",
              "       0.31773986, 0.0045931 , 0.74565036, 0.60045506, 0.53325749,\n",
              "       0.03183921, 0.39852863, 0.01464695, 0.01567539, 0.44943496,\n",
              "       0.00723246])"
            ]
          },
          "metadata": {},
          "execution_count": 25
        }
      ]
    },
    {
      "cell_type": "code",
      "metadata": {
        "id": "xWKAuKyp3jXv",
        "colab": {
          "base_uri": "https://localhost:8080/"
        },
        "outputId": "f6df50ca-2e9b-4912-8f00-a3eba3ca151c"
      },
      "source": [
        "from keras.callbacks import EarlyStopping, ReduceLROnPlateau, ModelCheckpoint\n",
        "es = EarlyStopping(patience=50)\n",
        "rlr = ReduceLROnPlateau(monitor='val_loss', patience=30)\n",
        "mc = ModelCheckpoint(filepath='best.h5', save_best_only=True) # se quiser manter um tracking da época e do erro: 'best_{epoch:03d}-{val_loss:.4f}.h5'\n",
        "\n",
        "history = regressor.fit(input_train, output_train, epochs = 250, batch_size = 32, validation_split=0.1, callbacks=[rlr, es, mc])"
      ],
      "execution_count": 26,
      "outputs": [
        {
          "output_type": "stream",
          "name": "stdout",
          "text": [
            "Epoch 1/250\n",
            "5/5 [==============================] - 7s 411ms/step - loss: 0.1200 - val_loss: 0.0433 - lr: 0.0010\n",
            "Epoch 2/250\n",
            "5/5 [==============================] - 0s 33ms/step - loss: 0.0391 - val_loss: 0.0436 - lr: 0.0010\n",
            "Epoch 3/250\n",
            "5/5 [==============================] - 0s 43ms/step - loss: 0.0329 - val_loss: 0.0257 - lr: 0.0010\n",
            "Epoch 4/250\n",
            "5/5 [==============================] - 0s 32ms/step - loss: 0.0290 - val_loss: 0.0261 - lr: 0.0010\n",
            "Epoch 5/250\n",
            "5/5 [==============================] - 0s 41ms/step - loss: 0.0234 - val_loss: 0.0209 - lr: 0.0010\n",
            "Epoch 6/250\n",
            "5/5 [==============================] - 0s 39ms/step - loss: 0.0238 - val_loss: 0.0205 - lr: 0.0010\n",
            "Epoch 7/250\n",
            "5/5 [==============================] - 0s 31ms/step - loss: 0.0225 - val_loss: 0.0212 - lr: 0.0010\n",
            "Epoch 8/250\n",
            "5/5 [==============================] - 0s 38ms/step - loss: 0.0217 - val_loss: 0.0188 - lr: 0.0010\n",
            "Epoch 9/250\n",
            "5/5 [==============================] - 0s 39ms/step - loss: 0.0187 - val_loss: 0.0185 - lr: 0.0010\n",
            "Epoch 10/250\n",
            "5/5 [==============================] - 0s 32ms/step - loss: 0.0200 - val_loss: 0.0188 - lr: 0.0010\n",
            "Epoch 11/250\n",
            "5/5 [==============================] - 0s 35ms/step - loss: 0.0205 - val_loss: 0.0190 - lr: 0.0010\n",
            "Epoch 12/250\n",
            "5/5 [==============================] - 0s 47ms/step - loss: 0.0200 - val_loss: 0.0183 - lr: 0.0010\n",
            "Epoch 13/250\n",
            "5/5 [==============================] - 0s 43ms/step - loss: 0.0192 - val_loss: 0.0182 - lr: 0.0010\n",
            "Epoch 14/250\n",
            "5/5 [==============================] - 0s 31ms/step - loss: 0.0193 - val_loss: 0.0191 - lr: 0.0010\n",
            "Epoch 15/250\n",
            "5/5 [==============================] - 0s 32ms/step - loss: 0.0185 - val_loss: 0.0182 - lr: 0.0010\n",
            "Epoch 16/250\n",
            "5/5 [==============================] - 0s 38ms/step - loss: 0.0197 - val_loss: 0.0182 - lr: 0.0010\n",
            "Epoch 17/250\n",
            "5/5 [==============================] - 0s 33ms/step - loss: 0.0181 - val_loss: 0.0185 - lr: 0.0010\n",
            "Epoch 18/250\n",
            "5/5 [==============================] - 0s 38ms/step - loss: 0.0187 - val_loss: 0.0180 - lr: 0.0010\n",
            "Epoch 19/250\n",
            "5/5 [==============================] - 0s 35ms/step - loss: 0.0194 - val_loss: 0.0182 - lr: 0.0010\n",
            "Epoch 20/250\n",
            "5/5 [==============================] - 0s 31ms/step - loss: 0.0184 - val_loss: 0.0181 - lr: 0.0010\n",
            "Epoch 21/250\n",
            "5/5 [==============================] - 0s 45ms/step - loss: 0.0187 - val_loss: 0.0179 - lr: 0.0010\n",
            "Epoch 22/250\n",
            "5/5 [==============================] - 0s 31ms/step - loss: 0.0180 - val_loss: 0.0180 - lr: 0.0010\n",
            "Epoch 23/250\n",
            "5/5 [==============================] - 0s 32ms/step - loss: 0.0185 - val_loss: 0.0184 - lr: 0.0010\n",
            "Epoch 24/250\n",
            "5/5 [==============================] - 0s 43ms/step - loss: 0.0172 - val_loss: 0.0178 - lr: 0.0010\n",
            "Epoch 25/250\n",
            "5/5 [==============================] - 0s 32ms/step - loss: 0.0190 - val_loss: 0.0182 - lr: 0.0010\n",
            "Epoch 26/250\n",
            "5/5 [==============================] - 0s 38ms/step - loss: 0.0198 - val_loss: 0.0178 - lr: 0.0010\n",
            "Epoch 27/250\n",
            "5/5 [==============================] - 0s 38ms/step - loss: 0.0187 - val_loss: 0.0176 - lr: 0.0010\n",
            "Epoch 28/250\n",
            "5/5 [==============================] - 0s 33ms/step - loss: 0.0176 - val_loss: 0.0180 - lr: 0.0010\n",
            "Epoch 29/250\n",
            "5/5 [==============================] - 0s 40ms/step - loss: 0.0182 - val_loss: 0.0175 - lr: 0.0010\n",
            "Epoch 30/250\n",
            "5/5 [==============================] - 0s 33ms/step - loss: 0.0187 - val_loss: 0.0180 - lr: 0.0010\n",
            "Epoch 31/250\n",
            "5/5 [==============================] - 0s 39ms/step - loss: 0.0187 - val_loss: 0.0175 - lr: 0.0010\n",
            "Epoch 32/250\n",
            "5/5 [==============================] - 0s 42ms/step - loss: 0.0189 - val_loss: 0.0175 - lr: 0.0010\n",
            "Epoch 33/250\n",
            "5/5 [==============================] - 0s 31ms/step - loss: 0.0170 - val_loss: 0.0176 - lr: 0.0010\n",
            "Epoch 34/250\n",
            "5/5 [==============================] - 0s 44ms/step - loss: 0.0190 - val_loss: 0.0174 - lr: 0.0010\n",
            "Epoch 35/250\n",
            "5/5 [==============================] - 0s 35ms/step - loss: 0.0180 - val_loss: 0.0177 - lr: 0.0010\n",
            "Epoch 36/250\n",
            "5/5 [==============================] - 0s 42ms/step - loss: 0.0186 - val_loss: 0.0173 - lr: 0.0010\n",
            "Epoch 37/250\n",
            "5/5 [==============================] - 0s 34ms/step - loss: 0.0186 - val_loss: 0.0174 - lr: 0.0010\n",
            "Epoch 38/250\n",
            "5/5 [==============================] - 0s 42ms/step - loss: 0.0173 - val_loss: 0.0172 - lr: 0.0010\n",
            "Epoch 39/250\n",
            "5/5 [==============================] - 0s 30ms/step - loss: 0.0180 - val_loss: 0.0172 - lr: 0.0010\n",
            "Epoch 40/250\n",
            "5/5 [==============================] - 0s 34ms/step - loss: 0.0184 - val_loss: 0.0173 - lr: 0.0010\n",
            "Epoch 41/250\n",
            "5/5 [==============================] - 0s 42ms/step - loss: 0.0180 - val_loss: 0.0171 - lr: 0.0010\n",
            "Epoch 42/250\n",
            "5/5 [==============================] - 0s 36ms/step - loss: 0.0184 - val_loss: 0.0176 - lr: 0.0010\n",
            "Epoch 43/250\n",
            "5/5 [==============================] - 0s 39ms/step - loss: 0.0176 - val_loss: 0.0170 - lr: 0.0010\n",
            "Epoch 44/250\n",
            "5/5 [==============================] - 0s 31ms/step - loss: 0.0180 - val_loss: 0.0178 - lr: 0.0010\n",
            "Epoch 45/250\n",
            "5/5 [==============================] - 0s 38ms/step - loss: 0.0187 - val_loss: 0.0169 - lr: 0.0010\n",
            "Epoch 46/250\n",
            "5/5 [==============================] - 0s 33ms/step - loss: 0.0171 - val_loss: 0.0169 - lr: 0.0010\n",
            "Epoch 47/250\n",
            "5/5 [==============================] - 0s 39ms/step - loss: 0.0182 - val_loss: 0.0168 - lr: 0.0010\n",
            "Epoch 48/250\n",
            "5/5 [==============================] - 0s 42ms/step - loss: 0.0189 - val_loss: 0.0168 - lr: 0.0010\n",
            "Epoch 49/250\n",
            "5/5 [==============================] - 0s 40ms/step - loss: 0.0176 - val_loss: 0.0167 - lr: 0.0010\n",
            "Epoch 50/250\n",
            "5/5 [==============================] - 0s 31ms/step - loss: 0.0169 - val_loss: 0.0168 - lr: 0.0010\n",
            "Epoch 51/250\n",
            "5/5 [==============================] - 0s 31ms/step - loss: 0.0170 - val_loss: 0.0168 - lr: 0.0010\n",
            "Epoch 52/250\n",
            "5/5 [==============================] - 0s 40ms/step - loss: 0.0175 - val_loss: 0.0167 - lr: 0.0010\n",
            "Epoch 53/250\n",
            "5/5 [==============================] - 0s 32ms/step - loss: 0.0176 - val_loss: 0.0172 - lr: 0.0010\n",
            "Epoch 54/250\n",
            "5/5 [==============================] - 0s 40ms/step - loss: 0.0183 - val_loss: 0.0165 - lr: 0.0010\n",
            "Epoch 55/250\n",
            "5/5 [==============================] - 0s 33ms/step - loss: 0.0178 - val_loss: 0.0166 - lr: 0.0010\n",
            "Epoch 56/250\n",
            "5/5 [==============================] - 0s 43ms/step - loss: 0.0167 - val_loss: 0.0164 - lr: 0.0010\n",
            "Epoch 57/250\n",
            "5/5 [==============================] - 0s 39ms/step - loss: 0.0169 - val_loss: 0.0164 - lr: 0.0010\n",
            "Epoch 58/250\n",
            "5/5 [==============================] - 0s 37ms/step - loss: 0.0174 - val_loss: 0.0164 - lr: 0.0010\n",
            "Epoch 59/250\n",
            "5/5 [==============================] - 0s 31ms/step - loss: 0.0179 - val_loss: 0.0164 - lr: 0.0010\n",
            "Epoch 60/250\n",
            "5/5 [==============================] - 0s 40ms/step - loss: 0.0163 - val_loss: 0.0162 - lr: 0.0010\n",
            "Epoch 61/250\n",
            "5/5 [==============================] - 0s 35ms/step - loss: 0.0175 - val_loss: 0.0168 - lr: 0.0010\n",
            "Epoch 62/250\n",
            "5/5 [==============================] - 0s 33ms/step - loss: 0.0191 - val_loss: 0.0172 - lr: 0.0010\n",
            "Epoch 63/250\n",
            "5/5 [==============================] - 0s 31ms/step - loss: 0.0199 - val_loss: 0.0163 - lr: 0.0010\n",
            "Epoch 64/250\n",
            "5/5 [==============================] - 0s 33ms/step - loss: 0.0169 - val_loss: 0.0167 - lr: 0.0010\n",
            "Epoch 65/250\n",
            "5/5 [==============================] - 0s 39ms/step - loss: 0.0166 - val_loss: 0.0160 - lr: 0.0010\n",
            "Epoch 66/250\n",
            "5/5 [==============================] - 0s 33ms/step - loss: 0.0172 - val_loss: 0.0163 - lr: 0.0010\n",
            "Epoch 67/250\n",
            "5/5 [==============================] - 0s 32ms/step - loss: 0.0154 - val_loss: 0.0160 - lr: 0.0010\n",
            "Epoch 68/250\n",
            "5/5 [==============================] - 0s 47ms/step - loss: 0.0168 - val_loss: 0.0159 - lr: 0.0010\n",
            "Epoch 69/250\n",
            "5/5 [==============================] - 0s 45ms/step - loss: 0.0164 - val_loss: 0.0159 - lr: 0.0010\n",
            "Epoch 70/250\n",
            "5/5 [==============================] - 0s 40ms/step - loss: 0.0171 - val_loss: 0.0158 - lr: 0.0010\n",
            "Epoch 71/250\n",
            "5/5 [==============================] - 0s 31ms/step - loss: 0.0164 - val_loss: 0.0160 - lr: 0.0010\n",
            "Epoch 72/250\n",
            "5/5 [==============================] - 0s 30ms/step - loss: 0.0178 - val_loss: 0.0161 - lr: 0.0010\n",
            "Epoch 73/250\n",
            "5/5 [==============================] - 0s 31ms/step - loss: 0.0164 - val_loss: 0.0173 - lr: 0.0010\n",
            "Epoch 74/250\n",
            "5/5 [==============================] - 0s 32ms/step - loss: 0.0174 - val_loss: 0.0159 - lr: 0.0010\n",
            "Epoch 75/250\n",
            "5/5 [==============================] - 0s 39ms/step - loss: 0.0182 - val_loss: 0.0158 - lr: 0.0010\n",
            "Epoch 76/250\n",
            "5/5 [==============================] - 0s 32ms/step - loss: 0.0179 - val_loss: 0.0165 - lr: 0.0010\n",
            "Epoch 77/250\n",
            "5/5 [==============================] - 0s 34ms/step - loss: 0.0168 - val_loss: 0.0167 - lr: 0.0010\n",
            "Epoch 78/250\n",
            "5/5 [==============================] - 0s 36ms/step - loss: 0.0174 - val_loss: 0.0164 - lr: 0.0010\n",
            "Epoch 79/250\n",
            "5/5 [==============================] - 0s 43ms/step - loss: 0.0162 - val_loss: 0.0156 - lr: 0.0010\n",
            "Epoch 80/250\n",
            "5/5 [==============================] - 0s 40ms/step - loss: 0.0161 - val_loss: 0.0155 - lr: 0.0010\n",
            "Epoch 81/250\n",
            "5/5 [==============================] - 0s 33ms/step - loss: 0.0168 - val_loss: 0.0162 - lr: 0.0010\n",
            "Epoch 82/250\n",
            "5/5 [==============================] - 0s 33ms/step - loss: 0.0163 - val_loss: 0.0162 - lr: 0.0010\n",
            "Epoch 83/250\n",
            "5/5 [==============================] - 0s 33ms/step - loss: 0.0158 - val_loss: 0.0164 - lr: 0.0010\n",
            "Epoch 84/250\n",
            "5/5 [==============================] - 0s 38ms/step - loss: 0.0155 - val_loss: 0.0152 - lr: 0.0010\n",
            "Epoch 85/250\n",
            "5/5 [==============================] - 0s 30ms/step - loss: 0.0142 - val_loss: 0.0156 - lr: 0.0010\n",
            "Epoch 86/250\n",
            "5/5 [==============================] - 0s 34ms/step - loss: 0.0152 - val_loss: 0.0156 - lr: 0.0010\n",
            "Epoch 87/250\n",
            "5/5 [==============================] - 0s 44ms/step - loss: 0.0157 - val_loss: 0.0152 - lr: 0.0010\n",
            "Epoch 88/250\n",
            "5/5 [==============================] - 0s 31ms/step - loss: 0.0150 - val_loss: 0.0154 - lr: 0.0010\n",
            "Epoch 89/250\n",
            "5/5 [==============================] - 0s 43ms/step - loss: 0.0147 - val_loss: 0.0151 - lr: 0.0010\n",
            "Epoch 90/250\n",
            "5/5 [==============================] - 0s 31ms/step - loss: 0.0144 - val_loss: 0.0151 - lr: 0.0010\n",
            "Epoch 91/250\n",
            "5/5 [==============================] - 0s 32ms/step - loss: 0.0140 - val_loss: 0.0152 - lr: 0.0010\n",
            "Epoch 92/250\n",
            "5/5 [==============================] - 0s 45ms/step - loss: 0.0154 - val_loss: 0.0150 - lr: 0.0010\n",
            "Epoch 93/250\n",
            "5/5 [==============================] - 0s 34ms/step - loss: 0.0157 - val_loss: 0.0154 - lr: 0.0010\n",
            "Epoch 94/250\n",
            "5/5 [==============================] - 0s 30ms/step - loss: 0.0135 - val_loss: 0.0155 - lr: 0.0010\n",
            "Epoch 95/250\n",
            "5/5 [==============================] - 0s 39ms/step - loss: 0.0149 - val_loss: 0.0150 - lr: 0.0010\n",
            "Epoch 96/250\n",
            "5/5 [==============================] - 0s 32ms/step - loss: 0.0143 - val_loss: 0.0153 - lr: 0.0010\n",
            "Epoch 97/250\n",
            "5/5 [==============================] - 0s 43ms/step - loss: 0.0142 - val_loss: 0.0148 - lr: 0.0010\n",
            "Epoch 98/250\n",
            "5/5 [==============================] - 0s 43ms/step - loss: 0.0148 - val_loss: 0.0148 - lr: 0.0010\n",
            "Epoch 99/250\n",
            "5/5 [==============================] - 0s 41ms/step - loss: 0.0143 - val_loss: 0.0147 - lr: 0.0010\n",
            "Epoch 100/250\n",
            "5/5 [==============================] - 0s 34ms/step - loss: 0.0143 - val_loss: 0.0148 - lr: 0.0010\n",
            "Epoch 101/250\n",
            "5/5 [==============================] - 0s 34ms/step - loss: 0.0130 - val_loss: 0.0149 - lr: 0.0010\n",
            "Epoch 102/250\n",
            "5/5 [==============================] - 0s 46ms/step - loss: 0.0142 - val_loss: 0.0146 - lr: 0.0010\n",
            "Epoch 103/250\n",
            "5/5 [==============================] - 0s 35ms/step - loss: 0.0131 - val_loss: 0.0152 - lr: 0.0010\n",
            "Epoch 104/250\n",
            "5/5 [==============================] - 0s 35ms/step - loss: 0.0137 - val_loss: 0.0154 - lr: 0.0010\n",
            "Epoch 105/250\n",
            "5/5 [==============================] - 0s 39ms/step - loss: 0.0136 - val_loss: 0.0146 - lr: 0.0010\n",
            "Epoch 106/250\n",
            "5/5 [==============================] - 0s 33ms/step - loss: 0.0144 - val_loss: 0.0147 - lr: 0.0010\n",
            "Epoch 107/250\n",
            "5/5 [==============================] - 0s 33ms/step - loss: 0.0130 - val_loss: 0.0150 - lr: 0.0010\n",
            "Epoch 108/250\n",
            "5/5 [==============================] - 0s 33ms/step - loss: 0.0132 - val_loss: 0.0151 - lr: 0.0010\n",
            "Epoch 109/250\n",
            "5/5 [==============================] - 0s 34ms/step - loss: 0.0126 - val_loss: 0.0147 - lr: 0.0010\n",
            "Epoch 110/250\n",
            "5/5 [==============================] - 0s 38ms/step - loss: 0.0135 - val_loss: 0.0146 - lr: 0.0010\n",
            "Epoch 111/250\n",
            "5/5 [==============================] - 0s 39ms/step - loss: 0.0125 - val_loss: 0.0147 - lr: 0.0010\n",
            "Epoch 112/250\n",
            "5/5 [==============================] - 0s 35ms/step - loss: 0.0125 - val_loss: 0.0148 - lr: 0.0010\n",
            "Epoch 113/250\n",
            "5/5 [==============================] - 0s 34ms/step - loss: 0.0130 - val_loss: 0.0147 - lr: 0.0010\n",
            "Epoch 114/250\n",
            "5/5 [==============================] - 0s 35ms/step - loss: 0.0133 - val_loss: 0.0147 - lr: 0.0010\n",
            "Epoch 115/250\n",
            "5/5 [==============================] - 0s 36ms/step - loss: 0.0131 - val_loss: 0.0147 - lr: 0.0010\n",
            "Epoch 116/250\n",
            "5/5 [==============================] - 0s 32ms/step - loss: 0.0114 - val_loss: 0.0150 - lr: 0.0010\n",
            "Epoch 117/250\n",
            "5/5 [==============================] - 0s 34ms/step - loss: 0.0130 - val_loss: 0.0147 - lr: 0.0010\n",
            "Epoch 118/250\n",
            "5/5 [==============================] - 0s 31ms/step - loss: 0.0127 - val_loss: 0.0149 - lr: 0.0010\n",
            "Epoch 119/250\n",
            "5/5 [==============================] - 0s 32ms/step - loss: 0.0119 - val_loss: 0.0149 - lr: 0.0010\n",
            "Epoch 120/250\n",
            "5/5 [==============================] - 0s 34ms/step - loss: 0.0126 - val_loss: 0.0149 - lr: 0.0010\n",
            "Epoch 121/250\n",
            "5/5 [==============================] - 0s 35ms/step - loss: 0.0126 - val_loss: 0.0153 - lr: 0.0010\n",
            "Epoch 122/250\n",
            "5/5 [==============================] - 0s 32ms/step - loss: 0.0125 - val_loss: 0.0150 - lr: 0.0010\n",
            "Epoch 123/250\n",
            "5/5 [==============================] - 0s 33ms/step - loss: 0.0130 - val_loss: 0.0150 - lr: 0.0010\n",
            "Epoch 124/250\n",
            "5/5 [==============================] - 0s 30ms/step - loss: 0.0127 - val_loss: 0.0155 - lr: 0.0010\n",
            "Epoch 125/250\n",
            "5/5 [==============================] - 0s 31ms/step - loss: 0.0120 - val_loss: 0.0157 - lr: 0.0010\n",
            "Epoch 126/250\n",
            "5/5 [==============================] - 0s 34ms/step - loss: 0.0121 - val_loss: 0.0150 - lr: 0.0010\n",
            "Epoch 127/250\n",
            "5/5 [==============================] - 0s 31ms/step - loss: 0.0126 - val_loss: 0.0152 - lr: 0.0010\n",
            "Epoch 128/250\n",
            "5/5 [==============================] - 0s 32ms/step - loss: 0.0116 - val_loss: 0.0151 - lr: 0.0010\n",
            "Epoch 129/250\n",
            "5/5 [==============================] - 0s 31ms/step - loss: 0.0115 - val_loss: 0.0151 - lr: 0.0010\n",
            "Epoch 130/250\n",
            "5/5 [==============================] - 0s 30ms/step - loss: 0.0116 - val_loss: 0.0152 - lr: 0.0010\n",
            "Epoch 131/250\n",
            "5/5 [==============================] - 0s 31ms/step - loss: 0.0119 - val_loss: 0.0152 - lr: 0.0010\n",
            "Epoch 132/250\n",
            "5/5 [==============================] - 0s 31ms/step - loss: 0.0115 - val_loss: 0.0152 - lr: 0.0010\n",
            "Epoch 133/250\n",
            "5/5 [==============================] - 0s 33ms/step - loss: 0.0122 - val_loss: 0.0151 - lr: 1.0000e-04\n",
            "Epoch 134/250\n",
            "5/5 [==============================] - 0s 33ms/step - loss: 0.0123 - val_loss: 0.0151 - lr: 1.0000e-04\n",
            "Epoch 135/250\n",
            "5/5 [==============================] - 0s 32ms/step - loss: 0.0109 - val_loss: 0.0152 - lr: 1.0000e-04\n",
            "Epoch 136/250\n",
            "5/5 [==============================] - 0s 36ms/step - loss: 0.0132 - val_loss: 0.0151 - lr: 1.0000e-04\n",
            "Epoch 137/250\n",
            "5/5 [==============================] - 0s 34ms/step - loss: 0.0112 - val_loss: 0.0151 - lr: 1.0000e-04\n",
            "Epoch 138/250\n",
            "5/5 [==============================] - 0s 34ms/step - loss: 0.0110 - val_loss: 0.0151 - lr: 1.0000e-04\n",
            "Epoch 139/250\n",
            "5/5 [==============================] - 0s 34ms/step - loss: 0.0121 - val_loss: 0.0151 - lr: 1.0000e-04\n",
            "Epoch 140/250\n",
            "5/5 [==============================] - 0s 36ms/step - loss: 0.0116 - val_loss: 0.0152 - lr: 1.0000e-04\n",
            "Epoch 141/250\n",
            "5/5 [==============================] - 0s 32ms/step - loss: 0.0126 - val_loss: 0.0152 - lr: 1.0000e-04\n",
            "Epoch 142/250\n",
            "5/5 [==============================] - 0s 36ms/step - loss: 0.0121 - val_loss: 0.0152 - lr: 1.0000e-04\n",
            "Epoch 143/250\n",
            "5/5 [==============================] - 0s 35ms/step - loss: 0.0110 - val_loss: 0.0152 - lr: 1.0000e-04\n",
            "Epoch 144/250\n",
            "5/5 [==============================] - 0s 34ms/step - loss: 0.0127 - val_loss: 0.0151 - lr: 1.0000e-04\n",
            "Epoch 145/250\n",
            "5/5 [==============================] - 0s 35ms/step - loss: 0.0117 - val_loss: 0.0151 - lr: 1.0000e-04\n",
            "Epoch 146/250\n",
            "5/5 [==============================] - 0s 39ms/step - loss: 0.0111 - val_loss: 0.0152 - lr: 1.0000e-04\n",
            "Epoch 147/250\n",
            "5/5 [==============================] - 0s 34ms/step - loss: 0.0116 - val_loss: 0.0152 - lr: 1.0000e-04\n",
            "Epoch 148/250\n",
            "5/5 [==============================] - 0s 32ms/step - loss: 0.0109 - val_loss: 0.0152 - lr: 1.0000e-04\n",
            "Epoch 149/250\n",
            "5/5 [==============================] - 0s 36ms/step - loss: 0.0119 - val_loss: 0.0152 - lr: 1.0000e-04\n",
            "Epoch 150/250\n",
            "5/5 [==============================] - 0s 37ms/step - loss: 0.0121 - val_loss: 0.0152 - lr: 1.0000e-04\n",
            "Epoch 151/250\n",
            "5/5 [==============================] - 0s 36ms/step - loss: 0.0105 - val_loss: 0.0152 - lr: 1.0000e-04\n",
            "Epoch 152/250\n",
            "5/5 [==============================] - 0s 35ms/step - loss: 0.0126 - val_loss: 0.0152 - lr: 1.0000e-04\n",
            "Epoch 153/250\n",
            "5/5 [==============================] - 0s 36ms/step - loss: 0.0121 - val_loss: 0.0152 - lr: 1.0000e-04\n",
            "Epoch 154/250\n",
            "5/5 [==============================] - 0s 32ms/step - loss: 0.0111 - val_loss: 0.0152 - lr: 1.0000e-04\n",
            "Epoch 155/250\n",
            "5/5 [==============================] - 0s 31ms/step - loss: 0.0112 - val_loss: 0.0152 - lr: 1.0000e-04\n"
          ]
        }
      ]
    },
    {
      "cell_type": "code",
      "metadata": {
        "id": "-29zcfGxyKW1",
        "colab": {
          "base_uri": "https://localhost:8080/",
          "height": 265
        },
        "outputId": "95a628e0-be6c-4a50-94f5-737600bcd07f"
      },
      "source": [
        "plt.plot(history.history['loss'], label='treino')\n",
        "plt.plot(history.history['val_loss'], label='validação')\n",
        "plt.legend();"
      ],
      "execution_count": 27,
      "outputs": [
        {
          "output_type": "display_data",
          "data": {
            "image/png": "[encoded data removed]",
            "text/plain": [
              "<Figure size 432x288 with 1 Axes>"
            ]
          },
          "metadata": {
            "needs_background": "light"
          }
        }
      ]
    },
    {
      "cell_type": "markdown",
      "metadata": {
        "id": "gwpyImwA3yon"
      },
      "source": [
        "## Parte 3 - Fazer as previsões e analisar os resultados"
      ]
    },
    {
      "cell_type": "markdown",
      "metadata": {
        "id": "rtkB4NA74e1B"
      },
      "source": [
        "### Fazer as previsões"
      ]
    },
    {
      "cell_type": "code",
      "metadata": {
        "colab": {
          "base_uri": "https://localhost:8080/"
        },
        "id": "bhqBmIY-3Lm4",
        "outputId": "0ad1d678-fbb3-4c12-f7aa-8a2e2039de2b"
      },
      "source": [
        "input_test.shape"
      ],
      "execution_count": 28,
      "outputs": [
        {
          "output_type": "execute_result",
          "data": {
            "text/plain": [
              "(43, 10)"
            ]
          },
          "metadata": {},
          "execution_count": 28
        }
      ]
    },
    {
      "cell_type": "code",
      "metadata": {
        "id": "guAZY9GR3Kaw"
      },
      "source": [
        "input_test = np.reshape(input_test, (input_test.shape[0], input_test.shape[1], 1))"
      ],
      "execution_count": 29,
      "outputs": []
    },
    {
      "cell_type": "code",
      "metadata": {
        "colab": {
          "base_uri": "https://localhost:8080/"
        },
        "id": "vynWmr7D3Mqk",
        "outputId": "2f00ad82-b43b-46fb-b71e-31eee8415ee0"
      },
      "source": [
        "input_test.shape"
      ],
      "execution_count": 30,
      "outputs": [
        {
          "output_type": "execute_result",
          "data": {
            "text/plain": [
              "(43, 10, 1)"
            ]
          },
          "metadata": {},
          "execution_count": 30
        }
      ]
    },
    {
      "cell_type": "code",
      "metadata": {
        "id": "nKIq1h-E4g9Z"
      },
      "source": [
        "regressor.load_weights('best.h5')\n",
        "predicted_anydrous_price = regressor.predict(input_test)\n",
        "predicted_anydrous_price = sc.inverse_transform(predicted_anydrous_price)"
      ],
      "execution_count": 31,
      "outputs": []
    },
    {
      "cell_type": "markdown",
      "metadata": {
        "id": "guvk7yXr4o0g"
      },
      "source": [
        "### Visualizar os resultados de treino e teste"
      ]
    },
    {
      "cell_type": "code",
      "metadata": {
        "id": "tkBt4WE04AAI"
      },
      "source": [
        "predicted_train = regressor.predict(input_train)\n",
        "predicted_train = sc.inverse_transform(predicted_train)"
      ],
      "execution_count": 32,
      "outputs": []
    },
    {
      "cell_type": "code",
      "metadata": {
        "id": "lS4E6eBl3877",
        "colab": {
          "base_uri": "https://localhost:8080/",
          "height": 335
        },
        "outputId": "60e8eb3b-3916-4d2b-efd1-5e3d62f58efb"
      },
      "source": [
        "plt.figure(figsize=(20,5))\n",
        "output_train_denorm = sc.inverse_transform(np.reshape(output_train, (output_train.shape[0], 1)))\n",
        "plt.plot(output_train_denorm, color = 'red', label = 'Real')\n",
        "plt.plot(predicted_train, color = 'blue', label = 'Previsto')\n",
        "plt.title('Previsão de série temporal')\n",
        "plt.xlabel('Tempo')\n",
        "plt.ylabel('Preço')\n",
        "plt.legend()\n",
        "plt.savefig('predictions_training_test.svg')\n",
        "plt.show()"
      ],
      "execution_count": 33,
      "outputs": [
        {
          "output_type": "display_data",
          "data": {
            "image/png": "[encoded data removed]",
            "text/plain": [
              "<Figure size 1440x360 with 1 Axes>"
            ]
          },
          "metadata": {
            "needs_background": "light"
          }
        }
      ]
    },
    {
      "cell_type": "code",
      "metadata": {
        "id": "tstXl2oS4rIo",
        "colab": {
          "base_uri": "https://localhost:8080/",
          "height": 335
        },
        "outputId": "54d2c1c3-ee6e-4c30-c88b-394244d0107a"
      },
      "source": [
        "plt.figure(figsize=(20,5))\n",
        "output_test_denorm = sc.inverse_transform(np.reshape(output_test, (output_test.shape[0], 1)))\n",
        "plt.plot(output_test_denorm, color = 'red', label = 'Real')\n",
        "plt.plot(predicted_anydrous_price, color = 'blue', label = 'Previsto')\n",
        "plt.title('Previsão de série temporal')\n",
        "plt.xlabel('Tempo')\n",
        "plt.ylabel('Preço')\n",
        "plt.legend()\n",
        "plt.savefig('predictions_training_test.svg')\n",
        "plt.show()"
      ],
      "execution_count": 34,
      "outputs": [
        {
          "output_type": "display_data",
          "data": {
            "image/png": "[encoded data removed]",
            "text/plain": [
              "<Figure size 1440x360 with 1 Axes>"
            ]
          },
          "metadata": {
            "needs_background": "light"
          }
        }
      ]
    },
    {
      "cell_type": "markdown",
      "metadata": {
        "id": "ytEVhQht4we3"
      },
      "source": [
        "## Parte 4 - Métricas de avaliação"
      ]
    },
    {
      "cell_type": "code",
      "metadata": {
        "id": "rqOonVj64ydu",
        "colab": {
          "base_uri": "https://localhost:8080/"
        },
        "outputId": "c7302edb-9b72-432b-aa8b-5aafeb1dd4b1"
      },
      "source": [
        "import math\n",
        "from sklearn.metrics import mean_squared_error\n",
        "rmse = math.sqrt(mean_squared_error(output_test_denorm, predicted_anydrous_price))\n",
        "print('RMSE: ', rmse)"
      ],
      "execution_count": 35,
      "outputs": [
        {
          "output_type": "stream",
          "name": "stdout",
          "text": [
            "RMSE:  4.550500233914141\n"
          ]
        }
      ]
    },
    {
      "cell_type": "code",
      "metadata": {
        "id": "ODeley1K42WW",
        "colab": {
          "base_uri": "https://localhost:8080/"
        },
        "outputId": "dbdc989a-e08e-4d96-9282-711f8b622896"
      },
      "source": [
        "mse = mean_squared_error(output_test_denorm, predicted_anydrous_price)\n",
        "print('MSE: ',mse)"
      ],
      "execution_count": 36,
      "outputs": [
        {
          "output_type": "stream",
          "name": "stdout",
          "text": [
            "MSE:  20.707052378852655\n"
          ]
        }
      ]
    },
    {
      "cell_type": "code",
      "metadata": {
        "id": "UlCke-S87atM",
        "colab": {
          "base_uri": "https://localhost:8080/"
        },
        "outputId": "5250cd6a-e9db-4eac-ecf7-35c0fc1aff4f"
      },
      "source": [
        "mape = np.mean(np.abs((output_test_denorm - predicted_anydrous_price) / output_test_denorm)) * 100\n",
        "print('MAPE: ',mape, '%')"
      ],
      "execution_count": 37,
      "outputs": [
        {
          "output_type": "stream",
          "name": "stdout",
          "text": [
            "MAPE:  180.77732810217734 %\n"
          ]
        }
      ]
    },
    {
      "cell_type": "code",
      "metadata": {
        "id": "Z33bdfX_SPGJ",
        "colab": {
          "base_uri": "https://localhost:8080/"
        },
        "outputId": "fe844a5b-4c71-4c5a-8951-69c52d6e7da0"
      },
      "source": [
        "from sklearn.metrics import r2_score\n",
        "print('R2: ', r2_score(output_test_denorm, predicted_anydrous_price[:,0]))"
      ],
      "execution_count": 38,
      "outputs": [
        {
          "output_type": "stream",
          "name": "stdout",
          "text": [
            "R2:  0.7309975549736121\n"
          ]
        }
      ]
    },
    {
      "cell_type": "markdown",
      "metadata": {
        "id": "lEjhT9YcDeN-"
      },
      "source": [
        "Prever preços é uma tarefa muito difícil. Hoje melhores resultados são obtidos com a utilização de dados de redes sociais e jornais para analisar o sentimento do mercado, a política, economia, etc.\n"
      ]
    }
  ]
}